{
 "cells": [
  {
   "cell_type": "code",
   "execution_count": 1,
   "id": "a3fc5604",
   "metadata": {},
   "outputs": [],
   "source": [
    "import pandas as pd\n",
    "import numpy as np\n",
    "from stop_words import get_stop_words"
   ]
  },
  {
   "cell_type": "code",
   "execution_count": 2,
   "id": "87184d00",
   "metadata": {},
   "outputs": [
    {
     "data": {
      "text/html": [
       "<div>\n",
       "<style scoped>\n",
       "    .dataframe tbody tr th:only-of-type {\n",
       "        vertical-align: middle;\n",
       "    }\n",
       "\n",
       "    .dataframe tbody tr th {\n",
       "        vertical-align: top;\n",
       "    }\n",
       "\n",
       "    .dataframe thead th {\n",
       "        text-align: right;\n",
       "    }\n",
       "</style>\n",
       "<table border=\"1\" class=\"dataframe\">\n",
       "  <thead>\n",
       "    <tr style=\"text-align: right;\">\n",
       "      <th></th>\n",
       "      <th>text</th>\n",
       "      <th>udk</th>\n",
       "    </tr>\n",
       "  </thead>\n",
       "  <tbody>\n",
       "    <tr>\n",
       "      <th>0</th>\n",
       "      <td>Науч. и техн. бки, 2016, № 141УДК 001.89Т. В. ...</td>\n",
       "      <td>001.89</td>\n",
       "    </tr>\n",
       "    <tr>\n",
       "      <th>1</th>\n",
       "      <td>Науч. и техн. бки, 2016, № 183ПРОБЛЕМЫ ИНФОРМА...</td>\n",
       "      <td>02(063)</td>\n",
       "    </tr>\n",
       "    <tr>\n",
       "      <th>2</th>\n",
       "      <td>Науч. и техн. бки, 2016, № 156УДК 023М. И. Рас...</td>\n",
       "      <td>023</td>\n",
       "    </tr>\n",
       "    <tr>\n",
       "      <th>3</th>\n",
       "      <td>Науч. и техн. бки, 2016, № 151УДК 025.44/.47Е....</td>\n",
       "      <td>025.44-.47</td>\n",
       "    </tr>\n",
       "    <tr>\n",
       "      <th>4</th>\n",
       "      <td>Науч. и техн. бки, 2016, № 169УДК 026:574+027....</td>\n",
       "      <td>026-574+027.625</td>\n",
       "    </tr>\n",
       "    <tr>\n",
       "      <th>...</th>\n",
       "      <td>...</td>\n",
       "      <td>...</td>\n",
       "    </tr>\n",
       "    <tr>\n",
       "      <th>664</th>\n",
       "      <td>БИБЛИОТЕЧНОЕ И СПРАВОЧНОИНФОРМАЦИОННОЕ ОБСЛУ...</td>\n",
       "      <td>025.5</td>\n",
       "    </tr>\n",
       "    <tr>\n",
       "      <th>665</th>\n",
       "      <td>БИБЛИОТЕЧНАЯ ПРОФЕССИЯ. КАДРЫ. ОБРАЗОВАНИЕ У...</td>\n",
       "      <td>027.7</td>\n",
       "    </tr>\n",
       "    <tr>\n",
       "      <th>666</th>\n",
       "      <td>УДК 37:004+02:37 https://doi.org/10.33186/10...</td>\n",
       "      <td>37-004+02-37</td>\n",
       "    </tr>\n",
       "    <tr>\n",
       "      <th>667</th>\n",
       "      <td>УДК 655.552+02+002 https://doi.org/10.33186/...</td>\n",
       "      <td>655.552+02+002</td>\n",
       "    </tr>\n",
       "    <tr>\n",
       "      <th>668</th>\n",
       "      <td>ОБЗОРЫ. РЕЦЕНЗИИ УДК 655.552+02 https://doi....</td>\n",
       "      <td>655.552+02</td>\n",
       "    </tr>\n",
       "  </tbody>\n",
       "</table>\n",
       "<p>669 rows × 2 columns</p>\n",
       "</div>"
      ],
      "text/plain": [
       "                                                  text               udk\n",
       "0    Науч. и техн. бки, 2016, № 141УДК 001.89Т. В. ...            001.89\n",
       "1    Науч. и техн. бки, 2016, № 183ПРОБЛЕМЫ ИНФОРМА...           02(063)\n",
       "2    Науч. и техн. бки, 2016, № 156УДК 023М. И. Рас...               023\n",
       "3    Науч. и техн. бки, 2016, № 151УДК 025.44/.47Е....        025.44-.47\n",
       "4    Науч. и техн. бки, 2016, № 169УДК 026:574+027....   026-574+027.625\n",
       "..                                                 ...               ...\n",
       "664    БИБЛИОТЕЧНОЕ И СПРАВОЧНОИНФОРМАЦИОННОЕ ОБСЛУ...             025.5\n",
       "665    БИБЛИОТЕЧНАЯ ПРОФЕССИЯ. КАДРЫ. ОБРАЗОВАНИЕ У...             027.7\n",
       "666    УДК 37:004+02:37 https://doi.org/10.33186/10...      37-004+02-37\n",
       "667    УДК 655.552+02+002 https://doi.org/10.33186/...    655.552+02+002\n",
       "668    ОБЗОРЫ. РЕЦЕНЗИИ УДК 655.552+02 https://doi....        655.552+02\n",
       "\n",
       "[669 rows x 2 columns]"
      ]
     },
     "execution_count": 2,
     "metadata": {},
     "output_type": "execute_result"
    }
   ],
   "source": [
    "data = pd.read_csv('data_1/dataset.csv')\n",
    "data"
   ]
  },
  {
   "cell_type": "markdown",
   "id": "9fc5c693",
   "metadata": {},
   "source": [
    "## Text preprocessing"
   ]
  },
  {
   "cell_type": "code",
   "execution_count": 3,
   "id": "8167ebde",
   "metadata": {},
   "outputs": [],
   "source": [
    "def replace_numbers(sentence: str) -> str:\n",
    "    new_words =[]\n",
    "    for word in sentence.split():\n",
    "        if word.isalpha():\n",
    "            new_words.append(word)\n",
    "    return ' '.join(new_words)  \n",
    "                                                    \n",
    "def remove_stopwords(sentence: str) -> str:\n",
    "    new_words = []\n",
    "    for word in sentence.split():\n",
    "        if word not in get_stop_words('russian') + get_stop_words('english'):\n",
    "            new_words.append(word)\n",
    "    return ' '.join(new_words)"
   ]
  },
  {
   "cell_type": "code",
   "execution_count": 4,
   "id": "6af2ed36",
   "metadata": {},
   "outputs": [],
   "source": [
    "def normalize(sentence: str) -> str:\n",
    "    sentence = replace_numbers(sentence)\n",
    "    sentence = remove_stopwords(sentence)\n",
    "    return sentence"
   ]
  },
  {
   "cell_type": "code",
   "execution_count": 5,
   "id": "86a092ba",
   "metadata": {},
   "outputs": [
    {
     "name": "stdout",
     "output_type": "stream",
     "text": [
      "Wall time: 17 s\n"
     ]
    }
   ],
   "source": [
    "%%time\n",
    "data['text'] = data['text'].apply(normalize)"
   ]
  },
  {
   "cell_type": "markdown",
   "id": "44893f4c",
   "metadata": {},
   "source": [
    "## paraphrase-multilingual-MiniLM-L12-v2 Transformer\n",
    "https://huggingface.co/sentence-transformers/paraphrase-multilingual-MiniLM-L12-v2"
   ]
  },
  {
   "cell_type": "code",
   "execution_count": 6,
   "id": "7077e7e8",
   "metadata": {},
   "outputs": [],
   "source": [
    "from sentence_transformers import SentenceTransformer"
   ]
  },
  {
   "cell_type": "code",
   "execution_count": 7,
   "id": "ee61e167",
   "metadata": {},
   "outputs": [],
   "source": [
    "model_name = 'sentence-transformers/paraphrase-multilingual-MiniLM-L12-v2'"
   ]
  },
  {
   "cell_type": "code",
   "execution_count": 8,
   "id": "3fb8bff2",
   "metadata": {},
   "outputs": [],
   "source": [
    "model = SentenceTransformer(model_name)"
   ]
  },
  {
   "cell_type": "code",
   "execution_count": 9,
   "id": "57766526",
   "metadata": {},
   "outputs": [],
   "source": [
    "def mlm_embeddings(sentence: str) -> np.ndarray:\n",
    "    '''Энкодер берет на вход текст макс. длины 128. Если на вход подается текст большей длины, то оно обрезается.\n",
    "    Функция получается текст произвольной длины, делит ее на куски по 128 слов. Куски объединяются в один список и подаются\n",
    "    энкодеру. Каждый кусок (размером 128) преобразуется энкодером в 328 мерный вектор. \n",
    "    Функция возвращает '(len(sentence)//128)*328+328'- мерный np.ndarray объект.'''\n",
    "    \n",
    "    embeddings = np.array([])\n",
    "    \n",
    "    sentence = sentence.split()\n",
    "    sentence_chunks = []\n",
    "\n",
    "    start = 0\n",
    "    window_size = 128\n",
    "    total_len = len(sentence)\n",
    "\n",
    "    loop = True\n",
    "    while loop:\n",
    "        end = start + window_size\n",
    "\n",
    "        if end >= total_len:\n",
    "            loop = False\n",
    "            end = total_len\n",
    "\n",
    "        sentence_chunks.append(' '.join(sentence[start:end]))    \n",
    "        start = end\n",
    "        \n",
    "    outputs = model.encode(sentence_chunks)\n",
    "    embeddings = np.append(embeddings, outputs.ravel())\n",
    "\n",
    "    return embeddings\n",
    "\n",
    "def same_length_embeddings(embeddings: np.ndarray) -> np.ndarray:\n",
    "    '''Для оценки косинуса подобия, необходиы вектора одной размерности. В нашем случае вектора получаются разных размерностей.\n",
    "    Функция приводит каждый вектор к длине максимального объекта, добавляением 0-лей в конце.'''\n",
    "    return np.append(embeddings, [0] * (max_length - (embeddings.shape[0])))"
   ]
  },
  {
   "cell_type": "code",
   "execution_count": 10,
   "id": "570f79ea",
   "metadata": {
    "scrolled": true
   },
   "outputs": [
    {
     "name": "stdout",
     "output_type": "stream",
     "text": [
      "Wall time: 19min 33s\n"
     ]
    }
   ],
   "source": [
    "%%time\n",
    "data['mlm_embeddings'] = data['text'].apply(mlm_embeddings)\n",
    "max_length = np.max(data['mlm_embeddings'].apply(len))\n",
    "data['mlm_embeddings'] = data['mlm_embeddings'].apply(same_length_embeddings)"
   ]
  },
  {
   "cell_type": "code",
   "execution_count": 11,
   "id": "f7331b41",
   "metadata": {
    "scrolled": false
   },
   "outputs": [
    {
     "data": {
      "text/html": [
       "<div>\n",
       "<style scoped>\n",
       "    .dataframe tbody tr th:only-of-type {\n",
       "        vertical-align: middle;\n",
       "    }\n",
       "\n",
       "    .dataframe tbody tr th {\n",
       "        vertical-align: top;\n",
       "    }\n",
       "\n",
       "    .dataframe thead th {\n",
       "        text-align: right;\n",
       "    }\n",
       "</style>\n",
       "<table border=\"1\" class=\"dataframe\">\n",
       "  <thead>\n",
       "    <tr style=\"text-align: right;\">\n",
       "      <th></th>\n",
       "      <th>text</th>\n",
       "      <th>udk</th>\n",
       "      <th>mlm_embeddings</th>\n",
       "    </tr>\n",
       "  </thead>\n",
       "  <tbody>\n",
       "    <tr>\n",
       "      <th>0</th>\n",
       "      <td>ЕрёменкоРязанский государственный университет ...</td>\n",
       "      <td>001.89</td>\n",
       "      <td>[-0.042462702840566635, 0.16254602372646332, -...</td>\n",
       "    </tr>\n",
       "    <tr>\n",
       "      <th>1</th>\n",
       "      <td>ИНФОРМАЦИОННОГО ОБЩЕСТВАУДК ЗемсковГПНТБ Конфе...</td>\n",
       "      <td>02(063)</td>\n",
       "      <td>[-0.18341054022312164, 0.03176235407590866, -0...</td>\n",
       "    </tr>\n",
       "    <tr>\n",
       "      <th>2</th>\n",
       "      <td>РассадинаВладимирский областной колледж культу...</td>\n",
       "      <td>023</td>\n",
       "      <td>[0.14342175424098969, 0.07016211003065109, -0....</td>\n",
       "    </tr>\n",
       "    <tr>\n",
       "      <th>3</th>\n",
       "      <td>ЗайцеваГПНТБ РоссииРазвитие классификацийбибли...</td>\n",
       "      <td>025.44-.47</td>\n",
       "      <td>[-0.17331849038600922, 0.06164005771279335, 0....</td>\n",
       "    </tr>\n",
       "    <tr>\n",
       "      <th>4</th>\n",
       "      <td>ЛещинскаяРоссийская государственная библиотека...</td>\n",
       "      <td>026-574+027.625</td>\n",
       "      <td>[0.06895367056131363, 0.28679823875427246, 0.1...</td>\n",
       "    </tr>\n",
       "    <tr>\n",
       "      <th>...</th>\n",
       "      <td>...</td>\n",
       "      <td>...</td>\n",
       "      <td>...</td>\n",
       "    </tr>\n",
       "    <tr>\n",
       "      <th>664</th>\n",
       "      <td>БИБЛИОТЕЧНОЕ И СПРАВОЧНОИНФОРМАЦИОННОЕ ОБСЛУЖИ...</td>\n",
       "      <td>025.5</td>\n",
       "      <td>[0.0846431627869606, -0.028025314211845398, -0...</td>\n",
       "    </tr>\n",
       "    <tr>\n",
       "      <th>665</th>\n",
       "      <td>БИБЛИОТЕЧНАЯ ОБРАЗОВАНИЕ УДК Комлева Новосибир...</td>\n",
       "      <td>027.7</td>\n",
       "      <td>[0.058247748762369156, 0.24192902445793152, -0...</td>\n",
       "    </tr>\n",
       "    <tr>\n",
       "      <th>666</th>\n",
       "      <td>УДК Мухаметшин Институт археологии Халикова Ак...</td>\n",
       "      <td>37-004+02-37</td>\n",
       "      <td>[-0.02187773585319519, 0.14094169437885284, -0...</td>\n",
       "    </tr>\n",
       "    <tr>\n",
       "      <th>667</th>\n",
       "      <td>УДК Зверевич ГПНТБ Российская Универсум Леонов...</td>\n",
       "      <td>655.552+02+002</td>\n",
       "      <td>[-0.03286799415946007, 0.18403780460357666, -0...</td>\n",
       "    </tr>\n",
       "    <tr>\n",
       "      <th>668</th>\n",
       "      <td>РЕЦЕНЗИИ УДК Столяров Российская государственн...</td>\n",
       "      <td>655.552+02</td>\n",
       "      <td>[-0.02444320358335972, 0.13803496956825256, -0...</td>\n",
       "    </tr>\n",
       "  </tbody>\n",
       "</table>\n",
       "<p>669 rows × 3 columns</p>\n",
       "</div>"
      ],
      "text/plain": [
       "                                                  text               udk  \\\n",
       "0    ЕрёменкоРязанский государственный университет ...            001.89   \n",
       "1    ИНФОРМАЦИОННОГО ОБЩЕСТВАУДК ЗемсковГПНТБ Конфе...           02(063)   \n",
       "2    РассадинаВладимирский областной колледж культу...               023   \n",
       "3    ЗайцеваГПНТБ РоссииРазвитие классификацийбибли...        025.44-.47   \n",
       "4    ЛещинскаяРоссийская государственная библиотека...   026-574+027.625   \n",
       "..                                                 ...               ...   \n",
       "664  БИБЛИОТЕЧНОЕ И СПРАВОЧНОИНФОРМАЦИОННОЕ ОБСЛУЖИ...             025.5   \n",
       "665  БИБЛИОТЕЧНАЯ ОБРАЗОВАНИЕ УДК Комлева Новосибир...             027.7   \n",
       "666  УДК Мухаметшин Институт археологии Халикова Ак...      37-004+02-37   \n",
       "667  УДК Зверевич ГПНТБ Российская Универсум Леонов...    655.552+02+002   \n",
       "668  РЕЦЕНЗИИ УДК Столяров Российская государственн...        655.552+02   \n",
       "\n",
       "                                        mlm_embeddings  \n",
       "0    [-0.042462702840566635, 0.16254602372646332, -...  \n",
       "1    [-0.18341054022312164, 0.03176235407590866, -0...  \n",
       "2    [0.14342175424098969, 0.07016211003065109, -0....  \n",
       "3    [-0.17331849038600922, 0.06164005771279335, 0....  \n",
       "4    [0.06895367056131363, 0.28679823875427246, 0.1...  \n",
       "..                                                 ...  \n",
       "664  [0.0846431627869606, -0.028025314211845398, -0...  \n",
       "665  [0.058247748762369156, 0.24192902445793152, -0...  \n",
       "666  [-0.02187773585319519, 0.14094169437885284, -0...  \n",
       "667  [-0.03286799415946007, 0.18403780460357666, -0...  \n",
       "668  [-0.02444320358335972, 0.13803496956825256, -0...  \n",
       "\n",
       "[669 rows x 3 columns]"
      ]
     },
     "execution_count": 11,
     "metadata": {},
     "output_type": "execute_result"
    }
   ],
   "source": [
    "data"
   ]
  },
  {
   "cell_type": "code",
   "execution_count": 12,
   "id": "a86f4908",
   "metadata": {
    "scrolled": true
   },
   "outputs": [
    {
     "data": {
      "text/plain": [
       "(29568,)"
      ]
     },
     "execution_count": 12,
     "metadata": {},
     "output_type": "execute_result"
    }
   ],
   "source": [
    "data['mlm_embeddings'][0].shape"
   ]
  },
  {
   "cell_type": "markdown",
   "id": "984969f1",
   "metadata": {},
   "source": [
    "## universal-sentence-encoder-multilingual Transformer\n",
    "https://tfhub.dev/google/universal-sentence-encoder-multilingual-large/3"
   ]
  },
  {
   "cell_type": "code",
   "execution_count": 13,
   "id": "3af37e42",
   "metadata": {},
   "outputs": [],
   "source": [
    "import tensorflow_hub as hub\n",
    "import tensorflow_text"
   ]
  },
  {
   "cell_type": "code",
   "execution_count": 14,
   "id": "a4e03ae8",
   "metadata": {},
   "outputs": [],
   "source": [
    "embed = hub.load(\"https://tfhub.dev/google/universal-sentence-encoder-multilingual/3\")"
   ]
  },
  {
   "cell_type": "code",
   "execution_count": 15,
   "id": "1c659d65",
   "metadata": {},
   "outputs": [],
   "source": [
    "def use_embeddings(sentence: str) -> np.ndarray:\n",
    "    '''Энкодер принимает тексты произвольной длины и возвращается 512 мерный TensorFlow объект.\n",
    "    Функция преобразует TensorFlow эмбеддинг в np.ndarray объект.'''\n",
    "    return np.concatenate(embed(sentence).numpy())"
   ]
  },
  {
   "cell_type": "code",
   "execution_count": 17,
   "id": "49e5a693",
   "metadata": {},
   "outputs": [
    {
     "name": "stdout",
     "output_type": "stream",
     "text": [
      "Wall time: 3min 57s\n"
     ]
    }
   ],
   "source": [
    "%%time\n",
    "data['use_embeddings'] = data['text'].apply(use_embeddings)"
   ]
  },
  {
   "cell_type": "code",
   "execution_count": 19,
   "id": "e5971dac",
   "metadata": {},
   "outputs": [
    {
     "data": {
      "text/html": [
       "<div>\n",
       "<style scoped>\n",
       "    .dataframe tbody tr th:only-of-type {\n",
       "        vertical-align: middle;\n",
       "    }\n",
       "\n",
       "    .dataframe tbody tr th {\n",
       "        vertical-align: top;\n",
       "    }\n",
       "\n",
       "    .dataframe thead th {\n",
       "        text-align: right;\n",
       "    }\n",
       "</style>\n",
       "<table border=\"1\" class=\"dataframe\">\n",
       "  <thead>\n",
       "    <tr style=\"text-align: right;\">\n",
       "      <th></th>\n",
       "      <th>text</th>\n",
       "      <th>udk</th>\n",
       "      <th>mlm_embeddings</th>\n",
       "      <th>use_embeddings</th>\n",
       "    </tr>\n",
       "  </thead>\n",
       "  <tbody>\n",
       "    <tr>\n",
       "      <th>0</th>\n",
       "      <td>ЕрёменкоРязанский государственный университет ...</td>\n",
       "      <td>001.89</td>\n",
       "      <td>[-0.042462702840566635, 0.16254602372646332, -...</td>\n",
       "      <td>[-0.05500672, 0.05491702, 0.050894015, 0.00420...</td>\n",
       "    </tr>\n",
       "    <tr>\n",
       "      <th>1</th>\n",
       "      <td>ИНФОРМАЦИОННОГО ОБЩЕСТВАУДК ЗемсковГПНТБ Конфе...</td>\n",
       "      <td>02(063)</td>\n",
       "      <td>[-0.18341054022312164, 0.03176235407590866, -0...</td>\n",
       "      <td>[-0.04918318, -0.030474897, -0.015696421, 0.00...</td>\n",
       "    </tr>\n",
       "    <tr>\n",
       "      <th>2</th>\n",
       "      <td>РассадинаВладимирский областной колледж культу...</td>\n",
       "      <td>023</td>\n",
       "      <td>[0.14342175424098969, 0.07016211003065109, -0....</td>\n",
       "      <td>[-0.055245362, 0.046793673, 0.050325207, -0.04...</td>\n",
       "    </tr>\n",
       "    <tr>\n",
       "      <th>3</th>\n",
       "      <td>ЗайцеваГПНТБ РоссииРазвитие классификацийбибли...</td>\n",
       "      <td>025.44-.47</td>\n",
       "      <td>[-0.17331849038600922, 0.06164005771279335, 0....</td>\n",
       "      <td>[-0.054188013, 0.03612344, -0.0127063105, 0.05...</td>\n",
       "    </tr>\n",
       "    <tr>\n",
       "      <th>4</th>\n",
       "      <td>ЛещинскаяРоссийская государственная библиотека...</td>\n",
       "      <td>026-574+027.625</td>\n",
       "      <td>[0.06895367056131363, 0.28679823875427246, 0.1...</td>\n",
       "      <td>[-0.05200468, 0.048524145, 0.022760656, -0.051...</td>\n",
       "    </tr>\n",
       "    <tr>\n",
       "      <th>...</th>\n",
       "      <td>...</td>\n",
       "      <td>...</td>\n",
       "      <td>...</td>\n",
       "      <td>...</td>\n",
       "    </tr>\n",
       "    <tr>\n",
       "      <th>664</th>\n",
       "      <td>БИБЛИОТЕЧНОЕ И СПРАВОЧНОИНФОРМАЦИОННОЕ ОБСЛУЖИ...</td>\n",
       "      <td>025.5</td>\n",
       "      <td>[0.0846431627869606, -0.028025314211845398, -0...</td>\n",
       "      <td>[-0.051134568, 0.04989279, 0.05091167, -0.0457...</td>\n",
       "    </tr>\n",
       "    <tr>\n",
       "      <th>665</th>\n",
       "      <td>БИБЛИОТЕЧНАЯ ОБРАЗОВАНИЕ УДК Комлева Новосибир...</td>\n",
       "      <td>027.7</td>\n",
       "      <td>[0.058247748762369156, 0.24192902445793152, -0...</td>\n",
       "      <td>[-0.038172144, 0.040904384, 0.049835395, -0.00...</td>\n",
       "    </tr>\n",
       "    <tr>\n",
       "      <th>666</th>\n",
       "      <td>УДК Мухаметшин Институт археологии Халикова Ак...</td>\n",
       "      <td>37-004+02-37</td>\n",
       "      <td>[-0.02187773585319519, 0.14094169437885284, -0...</td>\n",
       "      <td>[-0.052403744, 0.052356265, -0.012128776, 0.02...</td>\n",
       "    </tr>\n",
       "    <tr>\n",
       "      <th>667</th>\n",
       "      <td>УДК Зверевич ГПНТБ Российская Универсум Леонов...</td>\n",
       "      <td>655.552+02+002</td>\n",
       "      <td>[-0.03286799415946007, 0.18403780460357666, -0...</td>\n",
       "      <td>[-0.048506793, -0.039012127, 0.0485149, -0.048...</td>\n",
       "    </tr>\n",
       "    <tr>\n",
       "      <th>668</th>\n",
       "      <td>РЕЦЕНЗИИ УДК Столяров Российская государственн...</td>\n",
       "      <td>655.552+02</td>\n",
       "      <td>[-0.02444320358335972, 0.13803496956825256, -0...</td>\n",
       "      <td>[0.018222643, 0.016162723, 0.0028625054, 0.028...</td>\n",
       "    </tr>\n",
       "  </tbody>\n",
       "</table>\n",
       "<p>669 rows × 4 columns</p>\n",
       "</div>"
      ],
      "text/plain": [
       "                                                  text               udk  \\\n",
       "0    ЕрёменкоРязанский государственный университет ...            001.89   \n",
       "1    ИНФОРМАЦИОННОГО ОБЩЕСТВАУДК ЗемсковГПНТБ Конфе...           02(063)   \n",
       "2    РассадинаВладимирский областной колледж культу...               023   \n",
       "3    ЗайцеваГПНТБ РоссииРазвитие классификацийбибли...        025.44-.47   \n",
       "4    ЛещинскаяРоссийская государственная библиотека...   026-574+027.625   \n",
       "..                                                 ...               ...   \n",
       "664  БИБЛИОТЕЧНОЕ И СПРАВОЧНОИНФОРМАЦИОННОЕ ОБСЛУЖИ...             025.5   \n",
       "665  БИБЛИОТЕЧНАЯ ОБРАЗОВАНИЕ УДК Комлева Новосибир...             027.7   \n",
       "666  УДК Мухаметшин Институт археологии Халикова Ак...      37-004+02-37   \n",
       "667  УДК Зверевич ГПНТБ Российская Универсум Леонов...    655.552+02+002   \n",
       "668  РЕЦЕНЗИИ УДК Столяров Российская государственн...        655.552+02   \n",
       "\n",
       "                                        mlm_embeddings  \\\n",
       "0    [-0.042462702840566635, 0.16254602372646332, -...   \n",
       "1    [-0.18341054022312164, 0.03176235407590866, -0...   \n",
       "2    [0.14342175424098969, 0.07016211003065109, -0....   \n",
       "3    [-0.17331849038600922, 0.06164005771279335, 0....   \n",
       "4    [0.06895367056131363, 0.28679823875427246, 0.1...   \n",
       "..                                                 ...   \n",
       "664  [0.0846431627869606, -0.028025314211845398, -0...   \n",
       "665  [0.058247748762369156, 0.24192902445793152, -0...   \n",
       "666  [-0.02187773585319519, 0.14094169437885284, -0...   \n",
       "667  [-0.03286799415946007, 0.18403780460357666, -0...   \n",
       "668  [-0.02444320358335972, 0.13803496956825256, -0...   \n",
       "\n",
       "                                        use_embeddings  \n",
       "0    [-0.05500672, 0.05491702, 0.050894015, 0.00420...  \n",
       "1    [-0.04918318, -0.030474897, -0.015696421, 0.00...  \n",
       "2    [-0.055245362, 0.046793673, 0.050325207, -0.04...  \n",
       "3    [-0.054188013, 0.03612344, -0.0127063105, 0.05...  \n",
       "4    [-0.05200468, 0.048524145, 0.022760656, -0.051...  \n",
       "..                                                 ...  \n",
       "664  [-0.051134568, 0.04989279, 0.05091167, -0.0457...  \n",
       "665  [-0.038172144, 0.040904384, 0.049835395, -0.00...  \n",
       "666  [-0.052403744, 0.052356265, -0.012128776, 0.02...  \n",
       "667  [-0.048506793, -0.039012127, 0.0485149, -0.048...  \n",
       "668  [0.018222643, 0.016162723, 0.0028625054, 0.028...  \n",
       "\n",
       "[669 rows x 4 columns]"
      ]
     },
     "execution_count": 19,
     "metadata": {},
     "output_type": "execute_result"
    }
   ],
   "source": [
    "data"
   ]
  },
  {
   "cell_type": "code",
   "execution_count": 20,
   "id": "f763ea54",
   "metadata": {},
   "outputs": [
    {
     "data": {
      "text/plain": [
       "(512,)"
      ]
     },
     "execution_count": 20,
     "metadata": {},
     "output_type": "execute_result"
    }
   ],
   "source": [
    "data['use_embeddings'][0].shape"
   ]
  },
  {
   "cell_type": "markdown",
   "id": "b6eb6dc0",
   "metadata": {},
   "source": [
    "### Cosine similarity comparison"
   ]
  },
  {
   "cell_type": "code",
   "execution_count": 22,
   "id": "a2655df4",
   "metadata": {},
   "outputs": [],
   "source": [
    "from sklearn.metrics.pairwise import cosine_similarity"
   ]
  },
  {
   "cell_type": "code",
   "execution_count": null,
   "id": "48e74f8c",
   "metadata": {},
   "outputs": [],
   "source": [
    "%%time\n",
    "ID = 2 # id текста для сравнения семантического подобия\n",
    "similarity_df = pd.DataFrame({'udk': data['udk'].tolist()})\n",
    "similarity_df['mlm_similarity'] = cosine_similarity([data['mlm_embeddings'][ID]], data['mlm_embeddings'].tolist())[0]\n",
    "similarity_df['use_similarity'] = cosine_similarity([data['use_embeddings'][ID]], data['use_embeddings'].tolist())[0]"
   ]
  },
  {
   "cell_type": "code",
   "execution_count": 36,
   "id": "3762ef00",
   "metadata": {},
   "outputs": [
    {
     "data": {
      "text/html": [
       "<div>\n",
       "<style scoped>\n",
       "    .dataframe tbody tr th:only-of-type {\n",
       "        vertical-align: middle;\n",
       "    }\n",
       "\n",
       "    .dataframe tbody tr th {\n",
       "        vertical-align: top;\n",
       "    }\n",
       "\n",
       "    .dataframe thead th {\n",
       "        text-align: right;\n",
       "    }\n",
       "</style>\n",
       "<table border=\"1\" class=\"dataframe\">\n",
       "  <thead>\n",
       "    <tr style=\"text-align: right;\">\n",
       "      <th></th>\n",
       "      <th>udk</th>\n",
       "      <th>mlm_similarity</th>\n",
       "      <th>use_similarity</th>\n",
       "    </tr>\n",
       "  </thead>\n",
       "  <tbody>\n",
       "    <tr>\n",
       "      <th>2</th>\n",
       "      <td>023</td>\n",
       "      <td>1.000000</td>\n",
       "      <td>1.000000</td>\n",
       "    </tr>\n",
       "    <tr>\n",
       "      <th>23</th>\n",
       "      <td>023.1</td>\n",
       "      <td>0.612710</td>\n",
       "      <td>0.723239</td>\n",
       "    </tr>\n",
       "    <tr>\n",
       "      <th>131</th>\n",
       "      <td>023-37</td>\n",
       "      <td>0.581146</td>\n",
       "      <td>0.728810</td>\n",
       "    </tr>\n",
       "    <tr>\n",
       "      <th>312</th>\n",
       "      <td>027.7</td>\n",
       "      <td>0.579690</td>\n",
       "      <td>0.536760</td>\n",
       "    </tr>\n",
       "    <tr>\n",
       "      <th>198</th>\n",
       "      <td>02-37</td>\n",
       "      <td>0.570535</td>\n",
       "      <td>0.705393</td>\n",
       "    </tr>\n",
       "    <tr>\n",
       "      <th>...</th>\n",
       "      <td>...</td>\n",
       "      <td>...</td>\n",
       "      <td>...</td>\n",
       "    </tr>\n",
       "    <tr>\n",
       "      <th>113</th>\n",
       "      <td>002.2</td>\n",
       "      <td>0.172787</td>\n",
       "      <td>0.438249</td>\n",
       "    </tr>\n",
       "    <tr>\n",
       "      <th>92</th>\n",
       "      <td>004.75</td>\n",
       "      <td>0.168685</td>\n",
       "      <td>0.318017</td>\n",
       "    </tr>\n",
       "    <tr>\n",
       "      <th>449</th>\n",
       "      <td>37-004+001-004+008-004</td>\n",
       "      <td>0.152515</td>\n",
       "      <td>0.372465</td>\n",
       "    </tr>\n",
       "    <tr>\n",
       "      <th>343</th>\n",
       "      <td>001.102+026.06</td>\n",
       "      <td>0.144540</td>\n",
       "      <td>0.438024</td>\n",
       "    </tr>\n",
       "    <tr>\n",
       "      <th>240</th>\n",
       "      <td>02+069+378+339.13-655.42</td>\n",
       "      <td>0.119906</td>\n",
       "      <td>0.480720</td>\n",
       "    </tr>\n",
       "  </tbody>\n",
       "</table>\n",
       "<p>669 rows × 3 columns</p>\n",
       "</div>"
      ],
      "text/plain": [
       "                           udk  mlm_similarity  use_similarity\n",
       "2                          023        1.000000        1.000000\n",
       "23                       023.1        0.612710        0.723239\n",
       "131                     023-37        0.581146        0.728810\n",
       "312                      027.7        0.579690        0.536760\n",
       "198                      02-37        0.570535        0.705393\n",
       "..                         ...             ...             ...\n",
       "113                      002.2        0.172787        0.438249\n",
       "92                      004.75        0.168685        0.318017\n",
       "449     37-004+001-004+008-004        0.152515        0.372465\n",
       "343             001.102+026.06        0.144540        0.438024\n",
       "240   02+069+378+339.13-655.42        0.119906        0.480720\n",
       "\n",
       "[669 rows x 3 columns]"
      ]
     },
     "execution_count": 36,
     "metadata": {},
     "output_type": "execute_result"
    }
   ],
   "source": [
    "similarity_df.sort_values('mlm_similarity', ascending=False)"
   ]
  },
  {
   "cell_type": "code",
   "execution_count": 37,
   "id": "f861cf5b",
   "metadata": {},
   "outputs": [
    {
     "data": {
      "text/html": [
       "<div>\n",
       "<style scoped>\n",
       "    .dataframe tbody tr th:only-of-type {\n",
       "        vertical-align: middle;\n",
       "    }\n",
       "\n",
       "    .dataframe tbody tr th {\n",
       "        vertical-align: top;\n",
       "    }\n",
       "\n",
       "    .dataframe thead th {\n",
       "        text-align: right;\n",
       "    }\n",
       "</style>\n",
       "<table border=\"1\" class=\"dataframe\">\n",
       "  <thead>\n",
       "    <tr style=\"text-align: right;\">\n",
       "      <th></th>\n",
       "      <th>udk</th>\n",
       "      <th>mlm_similarity</th>\n",
       "      <th>use_similarity</th>\n",
       "    </tr>\n",
       "  </thead>\n",
       "  <tbody>\n",
       "    <tr>\n",
       "      <th>2</th>\n",
       "      <td>023</td>\n",
       "      <td>1.000000</td>\n",
       "      <td>1.000000</td>\n",
       "    </tr>\n",
       "    <tr>\n",
       "      <th>130</th>\n",
       "      <td>023(09)</td>\n",
       "      <td>0.551831</td>\n",
       "      <td>0.773009</td>\n",
       "    </tr>\n",
       "    <tr>\n",
       "      <th>170</th>\n",
       "      <td>02-378</td>\n",
       "      <td>0.564615</td>\n",
       "      <td>0.769916</td>\n",
       "    </tr>\n",
       "    <tr>\n",
       "      <th>451</th>\n",
       "      <td>02-378</td>\n",
       "      <td>0.446922</td>\n",
       "      <td>0.764613</td>\n",
       "    </tr>\n",
       "    <tr>\n",
       "      <th>316</th>\n",
       "      <td>02-378</td>\n",
       "      <td>0.506207</td>\n",
       "      <td>0.759278</td>\n",
       "    </tr>\n",
       "    <tr>\n",
       "      <th>...</th>\n",
       "      <td>...</td>\n",
       "      <td>...</td>\n",
       "      <td>...</td>\n",
       "    </tr>\n",
       "    <tr>\n",
       "      <th>152</th>\n",
       "      <td>026.06</td>\n",
       "      <td>0.308524</td>\n",
       "      <td>0.220514</td>\n",
       "    </tr>\n",
       "    <tr>\n",
       "      <th>643</th>\n",
       "      <td>026.06</td>\n",
       "      <td>0.390266</td>\n",
       "      <td>0.219460</td>\n",
       "    </tr>\n",
       "    <tr>\n",
       "      <th>487</th>\n",
       "      <td>001.816</td>\n",
       "      <td>0.375031</td>\n",
       "      <td>0.217133</td>\n",
       "    </tr>\n",
       "    <tr>\n",
       "      <th>567</th>\n",
       "      <td>02-004</td>\n",
       "      <td>0.208389</td>\n",
       "      <td>0.215070</td>\n",
       "    </tr>\n",
       "    <tr>\n",
       "      <th>154</th>\n",
       "      <td>026.06</td>\n",
       "      <td>0.225232</td>\n",
       "      <td>0.147846</td>\n",
       "    </tr>\n",
       "  </tbody>\n",
       "</table>\n",
       "<p>669 rows × 3 columns</p>\n",
       "</div>"
      ],
      "text/plain": [
       "          udk  mlm_similarity  use_similarity\n",
       "2         023        1.000000        1.000000\n",
       "130   023(09)        0.551831        0.773009\n",
       "170    02-378        0.564615        0.769916\n",
       "451    02-378        0.446922        0.764613\n",
       "316    02-378        0.506207        0.759278\n",
       "..        ...             ...             ...\n",
       "152    026.06        0.308524        0.220514\n",
       "643    026.06        0.390266        0.219460\n",
       "487   001.816        0.375031        0.217133\n",
       "567    02-004        0.208389        0.215070\n",
       "154    026.06        0.225232        0.147846\n",
       "\n",
       "[669 rows x 3 columns]"
      ]
     },
     "execution_count": 37,
     "metadata": {},
     "output_type": "execute_result"
    }
   ],
   "source": [
    "similarity_df.sort_values('use_similarity', ascending=False)"
   ]
  },
  {
   "cell_type": "code",
   "execution_count": 27,
   "id": "a5d31e86",
   "metadata": {},
   "outputs": [],
   "source": [
    "data.to_csv('data_embeddings.csv', index=False)"
   ]
  }
 ],
 "metadata": {
  "kernelspec": {
   "display_name": "Python 3 (ipykernel)",
   "language": "python",
   "name": "python3"
  },
  "language_info": {
   "codemirror_mode": {
    "name": "ipython",
    "version": 3
   },
   "file_extension": ".py",
   "mimetype": "text/x-python",
   "name": "python",
   "nbconvert_exporter": "python",
   "pygments_lexer": "ipython3",
   "version": "3.7.11"
  }
 },
 "nbformat": 4,
 "nbformat_minor": 5
}
